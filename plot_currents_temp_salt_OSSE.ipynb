{
 "cells": [
  {
   "cell_type": "code",
   "execution_count": 1,
   "metadata": {},
   "outputs": [
    {
     "name": "stdout",
     "output_type": "stream",
     "text": [
      "scrip.so not found. Remapping function will not be available\n"
     ]
    }
   ],
   "source": [
    "import xarray as xr\n",
    "import matplotlib.pyplot as plt\n",
    "import tools\n",
    "import numpy as np\n",
    "from datetime  import datetime\n",
    "from datetime import timedelta\n",
    "from glob import glob"
   ]
  },
  {
   "cell_type": "markdown",
   "metadata": {},
   "source": [
    "### Select Date"
   ]
  },
  {
   "cell_type": "code",
   "execution_count": 2,
   "metadata": {},
   "outputs": [],
   "source": [
    "date = datetime(2014,10,20)\n",
    "strdate = date.strftime('%Y%m%d')\n",
    "strdate_after = (date + timedelta(days=1)).strftime('%Y%m%d')"
   ]
  },
  {
   "cell_type": "markdown",
   "metadata": {},
   "source": [
    "### Bounding Box"
   ]
  },
  {
   "cell_type": "code",
   "execution_count": 3,
   "metadata": {},
   "outputs": [],
   "source": [
    "limits=[0, 1.5, 38.2, 39.2]"
   ]
  },
  {
   "cell_type": "markdown",
   "metadata": {},
   "source": [
    "### Define Paths"
   ]
  },
  {
   "cell_type": "code",
   "execution_count": 4,
   "metadata": {},
   "outputs": [],
   "source": [
    "file_analysis = '/DATA/jhernandez/WMOP_ASSIM/Outputs/HFR_all_future_nudging_Oct2014_OSSE/{0}/ensmean_std/roms_{0}_ensmean_analysis_SLA_SST_ARGO_HFR_future_ungridded_tsuvh_80mbs_loc200km_EnOI_WMOP.nc'.format(strdate)\n",
    "file_background = '/DATA/jhernandez/WMOP_ASSIM/Outputs/HFR_all_future_nudging_Oct2014_OSSE/{0}/ensmean_std/roms_{0}_ensmean_forecast_SLA_SST_ARGO_HFR_future_ungridded_tsuvh_80mbs_loc200km_EnOI_WMOP.nc'.format(strdate)\n",
    "file_wmop = '/DATA/jhernandez/ROMS/Outputs/HFR_all_future_nudging_Oct2014_OSSE/roms_WMOP_ASSIM_{0}_his.nc'.format(strdate_after)\n",
    "file_ndg = '/DATA/jhernandez/ROMS/Outputs/HFR_all_future_nudging_Oct2014_OSSE/roms_WMOP_ASSIM_nudging_{0}_his.nc'.format(strdate)\n",
    "file_nr = '/home/modelling/data/WMOP/WMOP_FORECAST/Outputs/FORECAST_CMEMS_RESTARTS/forecast_scratch/roms_WMOP_FORECAST_{0}_his.nc'.format(strdate)"
   ]
  },
  {
   "cell_type": "markdown",
   "metadata": {},
   "source": [
    "### Load DataSets"
   ]
  },
  {
   "cell_type": "code",
   "execution_count": 5,
   "metadata": {},
   "outputs": [
    {
     "ename": "FileNotFoundError",
     "evalue": "[Errno 2] No such file or directory: b'/DATA/jhernandez/WMOP_ASSIM/Outputs/HFR_all_future_nudging_Oct2014_OSSE/20141020/ensmean_std/roms_20141020_ensmean_analysis_SLA_SST_ARGO_HFR_future_ungridded_tsuvh_80mbs_loc200km_EnOI_WMOP.nc'",
     "output_type": "error",
     "traceback": [
      "\u001b[0;31m---------------------------------------------------------------------------\u001b[0m",
      "\u001b[0;31mKeyError\u001b[0m                                  Traceback (most recent call last)",
      "\u001b[0;32m/DATA/jhernandez/Softs/anaconda3/lib/python3.7/site-packages/xarray/backends/file_manager.py\u001b[0m in \u001b[0;36macquire\u001b[0;34m(self, needs_lock)\u001b[0m\n\u001b[1;32m    165\u001b[0m             \u001b[0;32mtry\u001b[0m\u001b[0;34m:\u001b[0m\u001b[0;34m\u001b[0m\u001b[0;34m\u001b[0m\u001b[0m\n\u001b[0;32m--> 166\u001b[0;31m                 \u001b[0mfile\u001b[0m \u001b[0;34m=\u001b[0m \u001b[0mself\u001b[0m\u001b[0;34m.\u001b[0m\u001b[0m_cache\u001b[0m\u001b[0;34m[\u001b[0m\u001b[0mself\u001b[0m\u001b[0;34m.\u001b[0m\u001b[0m_key\u001b[0m\u001b[0;34m]\u001b[0m\u001b[0;34m\u001b[0m\u001b[0;34m\u001b[0m\u001b[0m\n\u001b[0m\u001b[1;32m    167\u001b[0m             \u001b[0;32mexcept\u001b[0m \u001b[0mKeyError\u001b[0m\u001b[0;34m:\u001b[0m\u001b[0;34m\u001b[0m\u001b[0;34m\u001b[0m\u001b[0m\n",
      "\u001b[0;32m/DATA/jhernandez/Softs/anaconda3/lib/python3.7/site-packages/xarray/backends/lru_cache.py\u001b[0m in \u001b[0;36m__getitem__\u001b[0;34m(self, key)\u001b[0m\n\u001b[1;32m     42\u001b[0m         \u001b[0;32mwith\u001b[0m \u001b[0mself\u001b[0m\u001b[0;34m.\u001b[0m\u001b[0m_lock\u001b[0m\u001b[0;34m:\u001b[0m\u001b[0;34m\u001b[0m\u001b[0;34m\u001b[0m\u001b[0m\n\u001b[0;32m---> 43\u001b[0;31m             \u001b[0mvalue\u001b[0m \u001b[0;34m=\u001b[0m \u001b[0mself\u001b[0m\u001b[0;34m.\u001b[0m\u001b[0m_cache\u001b[0m\u001b[0;34m[\u001b[0m\u001b[0mkey\u001b[0m\u001b[0;34m]\u001b[0m\u001b[0;34m\u001b[0m\u001b[0;34m\u001b[0m\u001b[0m\n\u001b[0m\u001b[1;32m     44\u001b[0m             \u001b[0mmove_to_end\u001b[0m\u001b[0;34m(\u001b[0m\u001b[0mself\u001b[0m\u001b[0;34m.\u001b[0m\u001b[0m_cache\u001b[0m\u001b[0;34m,\u001b[0m \u001b[0mkey\u001b[0m\u001b[0;34m)\u001b[0m\u001b[0;34m\u001b[0m\u001b[0;34m\u001b[0m\u001b[0m\n",
      "\u001b[0;31mKeyError\u001b[0m: [<function _open_netcdf4_group at 0x7f38fe57f268>, ('/DATA/jhernandez/WMOP_ASSIM/Outputs/HFR_all_future_nudging_Oct2014_OSSE/20141020/ensmean_std/roms_20141020_ensmean_analysis_SLA_SST_ARGO_HFR_future_ungridded_tsuvh_80mbs_loc200km_EnOI_WMOP.nc', CombinedLock([<SerializableLock: 012add9d-7021-4f44-a7ab-0d2d2c66fad3>, <SerializableLock: aaad5251-5ee9-4e30-b7fe-6f580a4de0f2>])), 'r', (('clobber', True), ('diskless', False), ('format', 'NETCDF4'), ('group', None), ('persist', False))]",
      "\nDuring handling of the above exception, another exception occurred:\n",
      "\u001b[0;31mFileNotFoundError\u001b[0m                         Traceback (most recent call last)",
      "\u001b[0;32m<ipython-input-5-ca297b03e188>\u001b[0m in \u001b[0;36m<module>\u001b[0;34m\u001b[0m\n\u001b[0;32m----> 1\u001b[0;31m \u001b[0mds_an\u001b[0m \u001b[0;34m=\u001b[0m \u001b[0mxr\u001b[0m\u001b[0;34m.\u001b[0m\u001b[0mopen_dataset\u001b[0m\u001b[0;34m(\u001b[0m\u001b[0mfile_analysis\u001b[0m\u001b[0;34m)\u001b[0m\u001b[0;34m\u001b[0m\u001b[0;34m\u001b[0m\u001b[0m\n\u001b[0m\u001b[1;32m      2\u001b[0m \u001b[0mds_bg\u001b[0m \u001b[0;34m=\u001b[0m \u001b[0mxr\u001b[0m\u001b[0;34m.\u001b[0m\u001b[0mopen_dataset\u001b[0m\u001b[0;34m(\u001b[0m\u001b[0mfile_background\u001b[0m\u001b[0;34m)\u001b[0m\u001b[0;34m\u001b[0m\u001b[0;34m\u001b[0m\u001b[0m\n\u001b[1;32m      3\u001b[0m \u001b[0mds_wmop\u001b[0m \u001b[0;34m=\u001b[0m \u001b[0mxr\u001b[0m\u001b[0;34m.\u001b[0m\u001b[0mopen_dataset\u001b[0m\u001b[0;34m(\u001b[0m\u001b[0mfile_wmop\u001b[0m\u001b[0;34m)\u001b[0m\u001b[0;34m\u001b[0m\u001b[0;34m\u001b[0m\u001b[0m\n\u001b[1;32m      4\u001b[0m \u001b[0mds_nr\u001b[0m \u001b[0;34m=\u001b[0m \u001b[0mxr\u001b[0m\u001b[0;34m.\u001b[0m\u001b[0mopen_dataset\u001b[0m\u001b[0;34m(\u001b[0m\u001b[0mfile_nr\u001b[0m\u001b[0;34m)\u001b[0m\u001b[0;34m\u001b[0m\u001b[0;34m\u001b[0m\u001b[0m\n\u001b[1;32m      5\u001b[0m \u001b[0mds_ndg\u001b[0m \u001b[0;34m=\u001b[0m \u001b[0mxr\u001b[0m\u001b[0;34m.\u001b[0m\u001b[0mopen_dataset\u001b[0m\u001b[0;34m(\u001b[0m\u001b[0mfile_ndg\u001b[0m\u001b[0;34m)\u001b[0m\u001b[0;34m\u001b[0m\u001b[0;34m\u001b[0m\u001b[0m\n",
      "\u001b[0;32m/DATA/jhernandez/Softs/anaconda3/lib/python3.7/site-packages/xarray/backends/api.py\u001b[0m in \u001b[0;36mopen_dataset\u001b[0;34m(filename_or_obj, group, decode_cf, mask_and_scale, decode_times, autoclose, concat_characters, decode_coords, engine, chunks, lock, cache, drop_variables, backend_kwargs)\u001b[0m\n\u001b[1;32m    318\u001b[0m         \u001b[0;32mif\u001b[0m \u001b[0mengine\u001b[0m \u001b[0;34m==\u001b[0m \u001b[0;34m'netcdf4'\u001b[0m\u001b[0;34m:\u001b[0m\u001b[0;34m\u001b[0m\u001b[0;34m\u001b[0m\u001b[0m\n\u001b[1;32m    319\u001b[0m             store = backends.NetCDF4DataStore.open(\n\u001b[0;32m--> 320\u001b[0;31m                 filename_or_obj, group=group, lock=lock, **backend_kwargs)\n\u001b[0m\u001b[1;32m    321\u001b[0m         \u001b[0;32melif\u001b[0m \u001b[0mengine\u001b[0m \u001b[0;34m==\u001b[0m \u001b[0;34m'scipy'\u001b[0m\u001b[0;34m:\u001b[0m\u001b[0;34m\u001b[0m\u001b[0;34m\u001b[0m\u001b[0m\n\u001b[1;32m    322\u001b[0m             \u001b[0mstore\u001b[0m \u001b[0;34m=\u001b[0m \u001b[0mbackends\u001b[0m\u001b[0;34m.\u001b[0m\u001b[0mScipyDataStore\u001b[0m\u001b[0;34m(\u001b[0m\u001b[0mfilename_or_obj\u001b[0m\u001b[0;34m,\u001b[0m \u001b[0;34m**\u001b[0m\u001b[0mbackend_kwargs\u001b[0m\u001b[0;34m)\u001b[0m\u001b[0;34m\u001b[0m\u001b[0;34m\u001b[0m\u001b[0m\n",
      "\u001b[0;32m/DATA/jhernandez/Softs/anaconda3/lib/python3.7/site-packages/xarray/backends/netCDF4_.py\u001b[0m in \u001b[0;36mopen\u001b[0;34m(cls, filename, mode, format, group, clobber, diskless, persist, lock, lock_maker, autoclose)\u001b[0m\n\u001b[1;32m    353\u001b[0m             kwargs=dict(group=group, clobber=clobber, diskless=diskless,\n\u001b[1;32m    354\u001b[0m                         persist=persist, format=format))\n\u001b[0;32m--> 355\u001b[0;31m         \u001b[0;32mreturn\u001b[0m \u001b[0mcls\u001b[0m\u001b[0;34m(\u001b[0m\u001b[0mmanager\u001b[0m\u001b[0;34m,\u001b[0m \u001b[0mlock\u001b[0m\u001b[0;34m=\u001b[0m\u001b[0mlock\u001b[0m\u001b[0;34m,\u001b[0m \u001b[0mautoclose\u001b[0m\u001b[0;34m=\u001b[0m\u001b[0mautoclose\u001b[0m\u001b[0;34m)\u001b[0m\u001b[0;34m\u001b[0m\u001b[0;34m\u001b[0m\u001b[0m\n\u001b[0m\u001b[1;32m    356\u001b[0m \u001b[0;34m\u001b[0m\u001b[0m\n\u001b[1;32m    357\u001b[0m     \u001b[0;34m@\u001b[0m\u001b[0mproperty\u001b[0m\u001b[0;34m\u001b[0m\u001b[0;34m\u001b[0m\u001b[0m\n",
      "\u001b[0;32m/DATA/jhernandez/Softs/anaconda3/lib/python3.7/site-packages/xarray/backends/netCDF4_.py\u001b[0m in \u001b[0;36m__init__\u001b[0;34m(self, manager, lock, autoclose)\u001b[0m\n\u001b[1;32m    312\u001b[0m \u001b[0;34m\u001b[0m\u001b[0m\n\u001b[1;32m    313\u001b[0m         \u001b[0mself\u001b[0m\u001b[0;34m.\u001b[0m\u001b[0m_manager\u001b[0m \u001b[0;34m=\u001b[0m \u001b[0mmanager\u001b[0m\u001b[0;34m\u001b[0m\u001b[0;34m\u001b[0m\u001b[0m\n\u001b[0;32m--> 314\u001b[0;31m         \u001b[0mself\u001b[0m\u001b[0;34m.\u001b[0m\u001b[0mformat\u001b[0m \u001b[0;34m=\u001b[0m \u001b[0mself\u001b[0m\u001b[0;34m.\u001b[0m\u001b[0mds\u001b[0m\u001b[0;34m.\u001b[0m\u001b[0mdata_model\u001b[0m\u001b[0;34m\u001b[0m\u001b[0;34m\u001b[0m\u001b[0m\n\u001b[0m\u001b[1;32m    315\u001b[0m         \u001b[0mself\u001b[0m\u001b[0;34m.\u001b[0m\u001b[0m_filename\u001b[0m \u001b[0;34m=\u001b[0m \u001b[0mself\u001b[0m\u001b[0;34m.\u001b[0m\u001b[0mds\u001b[0m\u001b[0;34m.\u001b[0m\u001b[0mfilepath\u001b[0m\u001b[0;34m(\u001b[0m\u001b[0;34m)\u001b[0m\u001b[0;34m\u001b[0m\u001b[0;34m\u001b[0m\u001b[0m\n\u001b[1;32m    316\u001b[0m         \u001b[0mself\u001b[0m\u001b[0;34m.\u001b[0m\u001b[0mis_remote\u001b[0m \u001b[0;34m=\u001b[0m \u001b[0mis_remote_uri\u001b[0m\u001b[0;34m(\u001b[0m\u001b[0mself\u001b[0m\u001b[0;34m.\u001b[0m\u001b[0m_filename\u001b[0m\u001b[0;34m)\u001b[0m\u001b[0;34m\u001b[0m\u001b[0;34m\u001b[0m\u001b[0m\n",
      "\u001b[0;32m/DATA/jhernandez/Softs/anaconda3/lib/python3.7/site-packages/xarray/backends/netCDF4_.py\u001b[0m in \u001b[0;36mds\u001b[0;34m(self)\u001b[0m\n\u001b[1;32m    357\u001b[0m     \u001b[0;34m@\u001b[0m\u001b[0mproperty\u001b[0m\u001b[0;34m\u001b[0m\u001b[0;34m\u001b[0m\u001b[0m\n\u001b[1;32m    358\u001b[0m     \u001b[0;32mdef\u001b[0m \u001b[0mds\u001b[0m\u001b[0;34m(\u001b[0m\u001b[0mself\u001b[0m\u001b[0;34m)\u001b[0m\u001b[0;34m:\u001b[0m\u001b[0;34m\u001b[0m\u001b[0;34m\u001b[0m\u001b[0m\n\u001b[0;32m--> 359\u001b[0;31m         \u001b[0;32mreturn\u001b[0m \u001b[0mself\u001b[0m\u001b[0;34m.\u001b[0m\u001b[0m_manager\u001b[0m\u001b[0;34m.\u001b[0m\u001b[0macquire\u001b[0m\u001b[0;34m(\u001b[0m\u001b[0;34m)\u001b[0m\u001b[0;34m.\u001b[0m\u001b[0mvalue\u001b[0m\u001b[0;34m\u001b[0m\u001b[0;34m\u001b[0m\u001b[0m\n\u001b[0m\u001b[1;32m    360\u001b[0m \u001b[0;34m\u001b[0m\u001b[0m\n\u001b[1;32m    361\u001b[0m     \u001b[0;32mdef\u001b[0m \u001b[0mopen_store_variable\u001b[0m\u001b[0;34m(\u001b[0m\u001b[0mself\u001b[0m\u001b[0;34m,\u001b[0m \u001b[0mname\u001b[0m\u001b[0;34m,\u001b[0m \u001b[0mvar\u001b[0m\u001b[0;34m)\u001b[0m\u001b[0;34m:\u001b[0m\u001b[0;34m\u001b[0m\u001b[0;34m\u001b[0m\u001b[0m\n",
      "\u001b[0;32m/DATA/jhernandez/Softs/anaconda3/lib/python3.7/site-packages/xarray/backends/file_manager.py\u001b[0m in \u001b[0;36macquire\u001b[0;34m(self, needs_lock)\u001b[0m\n\u001b[1;32m    170\u001b[0m                     \u001b[0mkwargs\u001b[0m \u001b[0;34m=\u001b[0m \u001b[0mkwargs\u001b[0m\u001b[0;34m.\u001b[0m\u001b[0mcopy\u001b[0m\u001b[0;34m(\u001b[0m\u001b[0;34m)\u001b[0m\u001b[0;34m\u001b[0m\u001b[0;34m\u001b[0m\u001b[0m\n\u001b[1;32m    171\u001b[0m                     \u001b[0mkwargs\u001b[0m\u001b[0;34m[\u001b[0m\u001b[0;34m'mode'\u001b[0m\u001b[0;34m]\u001b[0m \u001b[0;34m=\u001b[0m \u001b[0mself\u001b[0m\u001b[0;34m.\u001b[0m\u001b[0m_mode\u001b[0m\u001b[0;34m\u001b[0m\u001b[0;34m\u001b[0m\u001b[0m\n\u001b[0;32m--> 172\u001b[0;31m                 \u001b[0mfile\u001b[0m \u001b[0;34m=\u001b[0m \u001b[0mself\u001b[0m\u001b[0;34m.\u001b[0m\u001b[0m_opener\u001b[0m\u001b[0;34m(\u001b[0m\u001b[0;34m*\u001b[0m\u001b[0mself\u001b[0m\u001b[0;34m.\u001b[0m\u001b[0m_args\u001b[0m\u001b[0;34m,\u001b[0m \u001b[0;34m**\u001b[0m\u001b[0mkwargs\u001b[0m\u001b[0;34m)\u001b[0m\u001b[0;34m\u001b[0m\u001b[0;34m\u001b[0m\u001b[0m\n\u001b[0m\u001b[1;32m    173\u001b[0m                 \u001b[0;32mif\u001b[0m \u001b[0mself\u001b[0m\u001b[0;34m.\u001b[0m\u001b[0m_mode\u001b[0m \u001b[0;34m==\u001b[0m \u001b[0;34m'w'\u001b[0m\u001b[0;34m:\u001b[0m\u001b[0;34m\u001b[0m\u001b[0;34m\u001b[0m\u001b[0m\n\u001b[1;32m    174\u001b[0m                     \u001b[0;31m# ensure file doesn't get overriden when opened again\u001b[0m\u001b[0;34m\u001b[0m\u001b[0;34m\u001b[0m\u001b[0;34m\u001b[0m\u001b[0m\n",
      "\u001b[0;32m/DATA/jhernandez/Softs/anaconda3/lib/python3.7/site-packages/xarray/backends/netCDF4_.py\u001b[0m in \u001b[0;36m_open_netcdf4_group\u001b[0;34m(filename, lock, mode, group, **kwargs)\u001b[0m\n\u001b[1;32m    245\u001b[0m     \u001b[0;32mimport\u001b[0m \u001b[0mnetCDF4\u001b[0m \u001b[0;32mas\u001b[0m \u001b[0mnc4\u001b[0m\u001b[0;34m\u001b[0m\u001b[0;34m\u001b[0m\u001b[0m\n\u001b[1;32m    246\u001b[0m \u001b[0;34m\u001b[0m\u001b[0m\n\u001b[0;32m--> 247\u001b[0;31m     \u001b[0mds\u001b[0m \u001b[0;34m=\u001b[0m \u001b[0mnc4\u001b[0m\u001b[0;34m.\u001b[0m\u001b[0mDataset\u001b[0m\u001b[0;34m(\u001b[0m\u001b[0mfilename\u001b[0m\u001b[0;34m,\u001b[0m \u001b[0mmode\u001b[0m\u001b[0;34m=\u001b[0m\u001b[0mmode\u001b[0m\u001b[0;34m,\u001b[0m \u001b[0;34m**\u001b[0m\u001b[0mkwargs\u001b[0m\u001b[0;34m)\u001b[0m\u001b[0;34m\u001b[0m\u001b[0;34m\u001b[0m\u001b[0m\n\u001b[0m\u001b[1;32m    248\u001b[0m \u001b[0;34m\u001b[0m\u001b[0m\n\u001b[1;32m    249\u001b[0m     \u001b[0;32mwith\u001b[0m \u001b[0mclose_on_error\u001b[0m\u001b[0;34m(\u001b[0m\u001b[0mds\u001b[0m\u001b[0;34m)\u001b[0m\u001b[0;34m:\u001b[0m\u001b[0;34m\u001b[0m\u001b[0;34m\u001b[0m\u001b[0m\n",
      "\u001b[0;32mnetCDF4/_netCDF4.pyx\u001b[0m in \u001b[0;36mnetCDF4._netCDF4.Dataset.__init__\u001b[0;34m()\u001b[0m\n",
      "\u001b[0;32mnetCDF4/_netCDF4.pyx\u001b[0m in \u001b[0;36mnetCDF4._netCDF4._ensure_nc_success\u001b[0;34m()\u001b[0m\n",
      "\u001b[0;31mFileNotFoundError\u001b[0m: [Errno 2] No such file or directory: b'/DATA/jhernandez/WMOP_ASSIM/Outputs/HFR_all_future_nudging_Oct2014_OSSE/20141020/ensmean_std/roms_20141020_ensmean_analysis_SLA_SST_ARGO_HFR_future_ungridded_tsuvh_80mbs_loc200km_EnOI_WMOP.nc'"
     ]
    }
   ],
   "source": [
    "ds_an = xr.open_dataset(file_analysis)\n",
    "ds_bg = xr.open_dataset(file_background)\n",
    "ds_wmop = xr.open_dataset(file_wmop)\n",
    "ds_nr = xr.open_dataset(file_nr)\n",
    "ds_ndg = xr.open_dataset(file_ndg)"
   ]
  },
  {
   "cell_type": "code",
   "execution_count": null,
   "metadata": {},
   "outputs": [],
   "source": [
    "ds_an_salt = ds_an['salt'].where( (ds_an.lon_rho>limits[0]) & (ds_an.lon_rho<limits[1]) & (ds_an.lat_rho>limits[2]) & (ds_an.lat_rho<limits[3]), drop=True )\n",
    "ds_an_temp = ds_an['temp'].where( (ds_an.lon_rho>limits[0]) & (ds_an.lon_rho<limits[1]) & (ds_an.lat_rho>limits[2]) & (ds_an.lat_rho<limits[3]), drop=True )\n"
   ]
  },
  {
   "cell_type": "markdown",
   "metadata": {},
   "source": [
    "## Prepare for plotting velocities"
   ]
  },
  {
   "cell_type": "code",
   "execution_count": null,
   "metadata": {},
   "outputs": [],
   "source": [
    "sset = 2\n",
    "\n",
    "x = ds_wmop.lon_rho.values[::sset,::sset]\n",
    "y = ds_wmop.lat_rho.values[::sset,::sset]\n",
    "\n",
    "#x = ds_wmop.lon_rho.where( (ds_wmop.lon_rho>limits[0]) & (ds_wmop.lon_rho<limits[1]) & (ds_wmop.lat_rho>limits[2]) & (ds_wmop.lat_rho<limits[3]), drop=True )[::sset,::sset].values\n",
    "#y = ds_wmop.lat_rho.where( (ds_wmop.lon_rho>limits[0]) & (ds_wmop.lon_rho<limits[1]) & (ds_wmop.lat_rho>limits[2]) & (ds_wmop.lat_rho<limits[3]), drop=True )[::sset,::sset].values\n"
   ]
  },
  {
   "cell_type": "code",
   "execution_count": null,
   "metadata": {},
   "outputs": [],
   "source": [
    "u_an = tools.u2rho_2d( ds_an['u'][0,-1,:,:].values)[::sset,::sset]\n",
    "v_an = tools.v2rho_2d( ds_an['v'][0,-1,:,:].values)[::sset,::sset]\n",
    "\n",
    "u_wmop = tools.u2rho_2d( ds_wmop['u'][0,-1,:,:].values)[::sset,::sset]\n",
    "v_wmop = tools.v2rho_2d( ds_wmop['v'][0,-1,:,:].values)[::sset,::sset]\n",
    "\n",
    "u_bg = tools.u2rho_2d( ds_bg['u'][0,-1,:,:].values)[::sset,::sset]\n",
    "v_bg = tools.v2rho_2d( ds_bg['v'][0,-1,:,:].values)[::sset,::sset]\n",
    "\n",
    "u_nr = tools.u2rho_2d( np.mean(ds_nr['u'][:,-1,:,:].values, axis=0))[::sset,::sset]\n",
    "v_nr = tools.v2rho_2d( np.mean(ds_nr['v'][:,-1,:,:].values, axis=0))[::sset,::sset]"
   ]
  },
  {
   "cell_type": "markdown",
   "metadata": {},
   "source": [
    "## Plot Temp Fields from WMOP and Analysis files"
   ]
  },
  {
   "cell_type": "code",
   "execution_count": null,
   "metadata": {},
   "outputs": [],
   "source": [
    "%matplotlib inline"
   ]
  },
  {
   "cell_type": "code",
   "execution_count": null,
   "metadata": {},
   "outputs": [],
   "source": [
    "fig = plt.figure(figsize=(17,14))\n",
    "\n",
    "ax, gl = tools.make_map(continents=False, limits=[0, 1.5, 38.2, 39.2], subplot_dim=221)\n",
    "plt.pcolormesh(ds_an_temp.lon_rho, ds_an_temp.lat_rho, ds_an_temp[0,-1,:,:], transform=gl.crs, cmap='RdYlBu_r')#, vmin=22.5, vmax=25.5)\n",
    "cb = plt.colorbar()\n",
    "q = ax.quiver(x,y,u_an, v_an, transform=gl.crs, scale=5, animated=True, headlength=15, headwidth=6, pivot='middle')\n",
    "ax.quiverkey(q, 0.1, 0.8,0.5,'0.5 m/s')\n",
    "plt.title('Analysis {0}'.format(strdate), fontsize=15, fontweight='bold')\n",
    "\n",
    "clims = cb.get_clim()\n",
    "\n",
    "ax, gl = tools.make_map(continents=False, limits=[0, 1.5, 38.2, 39.2], subplot_dim=222)\n",
    "plt.pcolormesh(ds_an.lon_rho, ds_an.lat_rho, ds_bg.temp[0,-1,:,:], transform=gl.crs, cmap='RdYlBu_r', vmin=clims[0], vmax=clims[1])\n",
    "plt.colorbar()\n",
    "q = ax.quiver(x,y,u_bg, v_bg, transform=gl.crs, scale=5, animated=True, headlength=15, headwidth=6, pivot='middle')\n",
    "ax.quiverkey(q, 0.1, 0.8,0.5,'0.5 m/s')\n",
    "plt.title('Background {0}'.format(strdate), fontsize=15, fontweight='bold')\n",
    "\n",
    "ax, gl = tools.make_map(continents=False, limits=[0, 1.5, 38.2, 39.2], subplot_dim=223)\n",
    "plt.pcolormesh(ds_an.lon_rho, ds_an.lat_rho, ds_wmop.temp[0,-1,:,:], transform=gl.crs, cmap='RdYlBu_r', vmin=clims[0], vmax=clims[1])\n",
    "plt.colorbar()\n",
    "q = ax.quiver(x,y,u_wmop, v_wmop, transform=gl.crs, scale=5, animated=True, headlength=15, headwidth=6, pivot='middle')\n",
    "ax.quiverkey(q, 0.1, 0.8,0.5,'0.5 m/s')\n",
    "plt.title('WMOP after restart {0}'.format(strdate), fontsize=15, fontweight='bold')\n",
    "\n",
    "ax, gl = tools.make_map(continents=False, limits=[0, 1.5, 38.2, 39.2], subplot_dim=224)\n",
    "plt.pcolormesh(ds_an.lon_rho, ds_an.lat_rho, ds_nr.temp[3,-1,:,:], transform=gl.crs, cmap='RdYlBu_r', vmin=clims[0], vmax=clims[1])\n",
    "plt.colorbar()\n",
    "q = ax.quiver(x,y,u_nr, v_nr, transform=gl.crs, scale=5, animated=True, headlength=15, headwidth=6, pivot='middle')\n",
    "ax.quiverkey(q, 0.1, 0.8,0.5,'0.5 m/s')\n",
    "plt.title('NR {0}'.format(strdate), fontsize=15, fontweight='bold')\n",
    "\n",
    "plt.show()"
   ]
  },
  {
   "cell_type": "code",
   "execution_count": null,
   "metadata": {},
   "outputs": [],
   "source": [
    "fig.savefig('/home/jhernandez/Escritorio/surface_temperature_fields_comparisons_OSSE_{0}'.format(strdate), dpi=250)"
   ]
  },
  {
   "cell_type": "markdown",
   "metadata": {},
   "source": [
    "## Plot Salinity Fields from WMOP and Analysis files"
   ]
  },
  {
   "cell_type": "code",
   "execution_count": null,
   "metadata": {},
   "outputs": [],
   "source": [
    "fig2 = plt.figure(figsize=(17,14))\n",
    "\n",
    "ax, gl = tools.make_map(continents=False, limits=[0, 1.5, 38.2, 39.2], subplot_dim=221)\n",
    "plt.pcolormesh(ds_an_salt.lon_rho, ds_an_salt.lat_rho, ds_an_salt[0,-1,:,:], transform=gl.crs, cmap='RdYlBu_r')#, vmin=36.5, vmax=38)\n",
    "cb = plt.colorbar()\n",
    "q = ax.quiver(x,y,u_an, v_an, transform=gl.crs, scale=5, animated=True, headlength=15, headwidth=6, pivot='middle')\n",
    "ax.quiverkey(q, 0.1, 0.8,0.5,'0.5 m/s')\n",
    "plt.title('Analysis {0}'.format(strdate), fontsize=15, fontweight='bold')\n",
    "\n",
    "clims = cb.get_clim()\n",
    "\n",
    "ax, gl = tools.make_map(continents=False, limits=[0, 1.5, 38.2, 39.2], subplot_dim=222)\n",
    "plt.pcolormesh(ds_an.lon_rho, ds_an.lat_rho, ds_bg.salt[0,-1,:,:], transform=gl.crs, cmap='RdYlBu_r', vmin=clims[0], vmax=clims[1])\n",
    "plt.colorbar()\n",
    "q = ax.quiver(x,y,u_bg, v_bg, transform=gl.crs, scale=5, animated=True, headlength=15, headwidth=6, pivot='middle')\n",
    "ax.quiverkey(q, 0.1, 0.8,0.5,'0.5 m/s')\n",
    "plt.title('Background  {0}'.format(strdate), fontsize=15, fontweight='bold')\n",
    "\n",
    "ax, gl = tools.make_map(continents=False, limits=[0, 1.5, 38.2, 39.2], subplot_dim=223)\n",
    "plt.pcolormesh(ds_an.lon_rho, ds_an.lat_rho, ds_wmop.salt[0,-1,:,:], transform=gl.crs, cmap='RdYlBu_r', vmin=clims[0], vmax=clims[1])\n",
    "plt.colorbar()\n",
    "q = ax.quiver(x,y,u_wmop, v_wmop, transform=gl.crs, scale=5, animated=True, headlength=15, headwidth=6, pivot='middle')\n",
    "ax.quiverkey(q, 0.1, 0.8,0.5,'0.5 m/s')\n",
    "plt.title('WMOP after restart {0}'.format(strdate), fontsize=15, fontweight='bold')\n",
    "\n",
    "ax, gl = tools.make_map(continents=False, limits=[0, 1.5, 38.2, 39.2], subplot_dim=224)\n",
    "plt.pcolormesh(ds_an.lon_rho, ds_an.lat_rho, ds_nr.salt[0,-1,:,:], transform=gl.crs, cmap='RdYlBu_r', vmin=36.5, vmax=38)\n",
    "plt.colorbar()\n",
    "q = ax.quiver(x,y,u_nr, v_nr, transform=gl.crs, scale=5, animated=True, headlength=15, headwidth=6, pivot='middle')\n",
    "ax.quiverkey(q, 0.1, 0.8,0.5,'0.5 m/s')\n",
    "plt.title('NR {0}'.format(strdate), fontsize=15, fontweight='bold')\n",
    "\n",
    "plt.show()"
   ]
  },
  {
   "cell_type": "code",
   "execution_count": null,
   "metadata": {},
   "outputs": [],
   "source": [
    "fig2.savefig('/home/jhernandez/Escritorio/surface_salinity_fields_comparisons_OSSE_{0}'.format(strdate), dpi=250)"
   ]
  }
 ],
 "metadata": {
  "kernelspec": {
   "display_name": "Python 3",
   "language": "python",
   "name": "python3"
  },
  "language_info": {
   "codemirror_mode": {
    "name": "ipython",
    "version": 3
   },
   "file_extension": ".py",
   "mimetype": "text/x-python",
   "name": "python",
   "nbconvert_exporter": "python",
   "pygments_lexer": "ipython3",
   "version": "3.7.2"
  }
 },
 "nbformat": 4,
 "nbformat_minor": 2
}
